{
 "cells": [
  {
   "cell_type": "markdown",
   "metadata": {},
   "source": [
    "First:\n",
    "- go to the terminal\n",
    "- go to the `4_tuning_networks` folder, use `cd` to get there, or `z` to get there faster.\n",
    "- if you are planning on closing the laptop to let this run by itself, start a tmux session by giving the command `tmux`. You can name the session with `ctrl+b $`, leave the tmux with `ctrl+b` d, access it again with `tmux a -t 0` or replace the 0 with the name you gave it. See [tmux](https://github.com/tmux/tmux/wiki/Getting-Started) for more info.\n",
    "- Activate the `.venv`, and run `python hypertune.py`\n",
    "- In the hypertune.py file, a tune_dir is specified: `models/ray`. We will check the contents of that folder after the hypertune finished. You can also use tensorboard to check the results. \n",
    "- this will take some time. I clocked 1901 seconds (30 minutes) on the VM"
   ]
  },
  {
   "cell_type": "code",
   "execution_count": null,
   "metadata": {},
   "outputs": [],
   "source": [
    "from pathlib import Path\n",
    "tune_dir = Path(\"models/ray\").resolve()\n",
    "tune_dir.exists()"
   ]
  },
  {
   "cell_type": "code",
   "execution_count": null,
   "metadata": {},
   "outputs": [],
   "source": [
    "tunelogs = [d for d in tune_dir.iterdir()]\n",
    "tunelogs.sort()\n",
    "latest = tunelogs[-1]\n",
    "latest"
   ]
  },
  {
   "cell_type": "code",
   "execution_count": null,
   "metadata": {},
   "outputs": [],
   "source": [
    "from ray.tune import ExperimentAnalysis\n",
    "import ray\n",
    "ray.init(ignore_reinit_error=True)\n",
    "\n",
    "\n",
    "analysis = ExperimentAnalysis(latest)\n"
   ]
  },
  {
   "cell_type": "markdown",
   "metadata": {},
   "source": [
    "So, we find some info:"
   ]
  },
  {
   "cell_type": "code",
   "execution_count": null,
   "metadata": {},
   "outputs": [],
   "source": [
    "analysis.results_df.columns"
   ]
  },
  {
   "cell_type": "markdown",
   "metadata": {},
   "source": [
    "Print first rows"
   ]
  },
  {
   "cell_type": "code",
   "execution_count": null,
   "metadata": {},
   "outputs": [],
   "source": [
    "plot = analysis.results_df\n",
    "\n",
    "columns_of_interest = ['iterations', 'train_loss', 'test_loss', 'Accuracy',\n",
    "                     'training_iteration','time_this_iter_s', 'time_total_s',\n",
    "                       'config/input_size', 'config/output_size', 'config/hidden_size', 'config/dropout',\n",
    "                       'config/num_layers', 'config/optimizer']\n",
    "\n",
    "result_table = plot.loc[:,columns_of_interest]\n",
    "result_table.sort_values(\"Accuracy\", ascending=False, inplace=True)\n",
    "result_table"
   ]
  },
  {
   "cell_type": "markdown",
   "metadata": {},
   "source": [
    "Let's focus on the parameters we wanted to tune.\n",
    "\n",
    "Kolommen volgorde aangepast zodat accuracy rechts staat. Leest makkelijker"
   ]
  },
  {
   "cell_type": "code",
   "execution_count": null,
   "metadata": {},
   "outputs": [],
   "source": [
    "import plotly.express as px\n",
    "\n",
    "# Zorg ervoor dat 'analysis' en 'results_df' correct zijn gedefinieerd\n",
    "plot = analysis.results_df\n",
    "select = [\"config/optimizer\", \"config/hidden_size\", \"config/num_layers\", \"config/dropout\", \"Accuracy\"]\n",
    "p = plot[select].reset_index().dropna()\n",
    "\n",
    "# Maak parallelle coördinaten plots met het gespecificeerde asbereik\n",
    "fig_adam = px.parallel_coordinates(p[p[\"config/optimizer\"] == \"Adam\"], color=\"Accuracy\", title=\"Parallel Coordinates for Adam Optimizer\", dimensions=[\"config/hidden_size\", \"config/num_layers\", \"config/dropout\", \"Accuracy\"])\n",
    "fig_sgd = px.parallel_coordinates(p[p[\"config/optimizer\"] == \"SGD\"], color=\"Accuracy\", title=\"Parallel Coordinates for SGD Optimizer\", dimensions=[\"config/hidden_size\", \"config/num_layers\", \"config/dropout\", \"Accuracy\"])\t\n",
    "\n",
    "fig_adam.show()\n",
    "fig_sgd.show()\n"
   ]
  },
  {
   "cell_type": "markdown",
   "metadata": {},
   "source": [
    "Let's sort by accuracy"
   ]
  },
  {
   "cell_type": "code",
   "execution_count": null,
   "metadata": {},
   "outputs": [],
   "source": [
    "p.sort_values(\"Accuracy\", inplace=True)"
   ]
  },
  {
   "cell_type": "markdown",
   "metadata": {},
   "source": [
    "Make a parallel plot"
   ]
  },
  {
   "cell_type": "code",
   "execution_count": null,
   "metadata": {},
   "outputs": [],
   "source": [
    "px.parallel_coordinates(p, color=\"Accuracy\")"
   ]
  },
  {
   "cell_type": "code",
   "execution_count": null,
   "metadata": {},
   "outputs": [],
   "source": [
    "import seaborn as sns\n",
    "\n",
    "sns.scatterplot(data=p, x=\"config/hidden_size\", y=\"config/num_layers\", hue=\"Accuracy\", palette=\"coolwarm\")"
   ]
  },
  {
   "cell_type": "code",
   "execution_count": null,
   "metadata": {},
   "outputs": [],
   "source": [
    "import seaborn as sns\n",
    "import matplotlib.pyplot as plt\n",
    "\n",
    "# Filter data for Adam optimizer\n",
    "p_adam = p[p[\"config/optimizer\"] == \"Adam\"]\n",
    "# Filter data for SGD optimizer\n",
    "p_sgd = p[p[\"config/optimizer\"] == \"SGD\"]\n",
    "\n",
    "# Create scatter plot for Adam optimizer\n",
    "plt.figure(figsize=(8, 4))\n",
    "sns.scatterplot(data=p_adam, x=\"config/hidden_size\", y=\"config/dropout\", hue=\"Accuracy\", palette=\"coolwarm\")\n",
    "plt.title(\"Scatter Plot for Adam Optimizer\")\n",
    "plt.show()\n",
    "\n",
    "# Create scatter plot for SGD optimizer\n",
    "plt.figure(figsize=(8, 4))\n",
    "sns.scatterplot(data=p_sgd, x=\"config/hidden_size\", y=\"config/dropout\", hue=\"Accuracy\", palette=\"coolwarm\")\n",
    "plt.title(\"Scatter Plot for SGD Optimizer\")\n",
    "plt.show()"
   ]
  },
  {
   "cell_type": "code",
   "execution_count": null,
   "metadata": {},
   "outputs": [],
   "source": [
    "import seaborn as sns\n",
    "\n",
    "pivot_table = p.pivot_table(index=\"config/hidden_size\", columns=\"config/num_layers\", values=\"Accuracy\", aggfunc='mean').sort_index(ascending=False)\n",
    "#sns.heatmap(pivot_table, cmap=\"coolwarm\", annot=True)\n",
    "# Separate pivot tables for Adam and SGD optimizers\n",
    "pivot_table_adam = p[p[\"config/optimizer\"] == \"Adam\"].pivot_table(index=\"config/hidden_size\", columns=\"config/num_layers\", values=\"Accuracy\", aggfunc='mean').sort_index(ascending=False)\n",
    "pivot_table_sgd = p[p[\"config/optimizer\"] == \"SGD\"].pivot_table(index=\"config/hidden_size\", columns=\"config/num_layers\", values=\"Accuracy\", aggfunc='mean').sort_index(ascending=False)\n",
    "\n",
    "# Plot heatmap for Adam optimizer\n",
    "plt.figure(figsize=(8,4))\n",
    "sns.heatmap(pivot_table_adam, cmap=\"coolwarm\", annot=True)\n",
    "plt.title(\"Heatmap of Accuracy for Adam Optimizer\")\n",
    "plt.show()\n",
    "\n",
    "# Plot heatmap for SGD optimizer\n",
    "plt.figure(figsize=(8,4))\n",
    "sns.heatmap(pivot_table_sgd, cmap=\"coolwarm\", annot=True)\n",
    "plt.title(\"Heatmap of Accuracy for SGD Optimizer\")\n",
    "plt.show()"
   ]
  },
  {
   "cell_type": "code",
   "execution_count": null,
   "metadata": {},
   "outputs": [],
   "source": [
    "import seaborn as sns\n",
    "\n",
    "pivot_table = p.pivot_table(index=\"config/hidden_size\", columns=\"config/num_layers\", values=\"Accuracy\", aggfunc='mean').sort_index(ascending=False)\n",
    "#sns.heatmap(pivot_table, cmap=\"coolwarm\", annot=True)\n",
    "# Separate pivot tables for Adam and SGD optimizers\n",
    "pivot_table_adam = p[p[\"config/optimizer\"] == \"Adam\"].pivot_table(index=\"config/hidden_size\", columns=\"config/dropout\", values=\"Accuracy\", aggfunc='mean').sort_index(ascending=False)\n",
    "pivot_table_sgd = p[p[\"config/optimizer\"] == \"SGD\"].pivot_table(index=\"config/hidden_size\", columns=\"config/dropout\", values=\"Accuracy\", aggfunc='mean').sort_index(ascending=False)\n",
    "\n",
    "# Plot heatmap for Adam optimizer\n",
    "plt.figure(figsize=(8,4))\n",
    "sns.heatmap(pivot_table_adam, cmap=\"coolwarm\", annot=True)\n",
    "plt.title(\"Heatmap of Accuracy for Adam Optimizer\")\n",
    "plt.show()\n",
    "\n",
    "# Plot heatmap for SGD optimizer\n",
    "plt.figure(figsize=(8,4))\n",
    "sns.heatmap(pivot_table_sgd, cmap=\"coolwarm\", annot=True)\n",
    "plt.title(\"Heatmap of Accuracy for SGD Optimizer\")\n",
    "plt.show()"
   ]
  },
  {
   "cell_type": "code",
   "execution_count": null,
   "metadata": {},
   "outputs": [],
   "source": [
    "import seaborn as sns\n",
    "\n",
    "p[\"config/dropout\"] = p[\"config/dropout\"].round(4)\n",
    "pivot_table = p.pivot_table(index=\"config/hidden_size\", columns=\"config/dropout\", values=\"Accuracy\", aggfunc='mean').sort_index(ascending=False)\n",
    "sns.heatmap(pivot_table, cmap=\"coolwarm\", annot=True)"
   ]
  },
  {
   "cell_type": "code",
   "execution_count": null,
   "metadata": {},
   "outputs": [],
   "source": [
    "import matplotlib.pyplot as plt\n",
    "cmap = sns.cubehelix_palette(as_cmap=True)\n",
    "sns.scatterplot(data=p, x=\"config/hidden_size\", y=\"config/num_layers\", hue=\"Accuracy\", palette=\"coolwarm\")\n",
    "sns.kdeplot(data=p, x=\"config/hidden_size\", y=\"config/num_layers\", cmap=cmap)\n",
    "plt.legend(loc='center left', bbox_to_anchor=(1, 0.5), ncol=1)"
   ]
  },
  {
   "cell_type": "markdown",
   "metadata": {},
   "source": [
    "Get the best trial"
   ]
  },
  {
   "cell_type": "code",
   "execution_count": null,
   "metadata": {},
   "outputs": [],
   "source": [
    "analysis.get_best_trial(metric=\"test_loss\", mode=\"min\")"
   ]
  },
  {
   "cell_type": "markdown",
   "metadata": {},
   "source": [
    "The top ten"
   ]
  },
  {
   "cell_type": "code",
   "execution_count": null,
   "metadata": {},
   "outputs": [],
   "source": [
    "p[-10:]"
   ]
  },
  {
   "cell_type": "markdown",
   "metadata": {},
   "source": [
    "Or the best config"
   ]
  },
  {
   "cell_type": "code",
   "execution_count": null,
   "metadata": {},
   "outputs": [],
   "source": [
    "analysis.get_best_config(metric=\"Accuracy\", mode=\"max\")"
   ]
  }
 ],
 "metadata": {
  "kernelspec": {
   "display_name": ".venv",
   "language": "python",
   "name": "python3"
  },
  "language_info": {
   "name": "python",
   "version": "3.11.10"
  }
 },
 "nbformat": 4,
 "nbformat_minor": 2
}
